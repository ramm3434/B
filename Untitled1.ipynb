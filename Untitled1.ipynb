{
 "cells": [
  {
   "cell_type": "code",
   "execution_count": 54,
   "id": "2a85cfc3-bc16-4729-9387-4d5643c0aa63",
   "metadata": {},
   "outputs": [],
   "source": [
    "import numpy as np\n",
    "import pandas as pd\n",
    "import matplotlib.pyplot as plt\n",
    "import os\n",
    "import cv2"
   ]
  },
  {
   "cell_type": "code",
   "execution_count": 55,
   "id": "e3919622-7e41-480b-9b13-7e9d68014509",
   "metadata": {},
   "outputs": [
    {
     "data": {
      "text/html": [
       "<div>\n",
       "<style scoped>\n",
       "    .dataframe tbody tr th:only-of-type {\n",
       "        vertical-align: middle;\n",
       "    }\n",
       "\n",
       "    .dataframe tbody tr th {\n",
       "        vertical-align: top;\n",
       "    }\n",
       "\n",
       "    .dataframe thead th {\n",
       "        text-align: right;\n",
       "    }\n",
       "</style>\n",
       "<table border=\"1\" class=\"dataframe\">\n",
       "  <thead>\n",
       "    <tr style=\"text-align: right;\">\n",
       "      <th></th>\n",
       "      <th>Unnamed: 0</th>\n",
       "      <th>filepath</th>\n",
       "      <th>xmin</th>\n",
       "      <th>xmax</th>\n",
       "      <th>ymin</th>\n",
       "      <th>ymax</th>\n",
       "    </tr>\n",
       "  </thead>\n",
       "  <tbody>\n",
       "    <tr>\n",
       "      <th>0</th>\n",
       "      <td>0</td>\n",
       "      <td>./images\\Cars0.xml</td>\n",
       "      <td>226</td>\n",
       "      <td>419</td>\n",
       "      <td>125</td>\n",
       "      <td>173</td>\n",
       "    </tr>\n",
       "    <tr>\n",
       "      <th>1</th>\n",
       "      <td>1</td>\n",
       "      <td>./images\\Cars1.xml</td>\n",
       "      <td>134</td>\n",
       "      <td>262</td>\n",
       "      <td>128</td>\n",
       "      <td>160</td>\n",
       "    </tr>\n",
       "    <tr>\n",
       "      <th>2</th>\n",
       "      <td>2</td>\n",
       "      <td>./images\\Cars10.xml</td>\n",
       "      <td>140</td>\n",
       "      <td>303</td>\n",
       "      <td>5</td>\n",
       "      <td>148</td>\n",
       "    </tr>\n",
       "    <tr>\n",
       "      <th>3</th>\n",
       "      <td>3</td>\n",
       "      <td>./images\\Cars100.xml</td>\n",
       "      <td>175</td>\n",
       "      <td>214</td>\n",
       "      <td>114</td>\n",
       "      <td>131</td>\n",
       "    </tr>\n",
       "    <tr>\n",
       "      <th>4</th>\n",
       "      <td>4</td>\n",
       "      <td>./images\\Cars101.xml</td>\n",
       "      <td>167</td>\n",
       "      <td>240</td>\n",
       "      <td>202</td>\n",
       "      <td>220</td>\n",
       "    </tr>\n",
       "  </tbody>\n",
       "</table>\n",
       "</div>"
      ],
      "text/plain": [
       "   Unnamed: 0              filepath  xmin  xmax  ymin  ymax\n",
       "0           0    ./images\\Cars0.xml   226   419   125   173\n",
       "1           1    ./images\\Cars1.xml   134   262   128   160\n",
       "2           2   ./images\\Cars10.xml   140   303     5   148\n",
       "3           3  ./images\\Cars100.xml   175   214   114   131\n",
       "4           4  ./images\\Cars101.xml   167   240   202   220"
      ]
     },
     "execution_count": 55,
     "metadata": {},
     "output_type": "execute_result"
    }
   ],
   "source": [
    "df = pd.read_csv('labels.csv')\n",
    "df.head()"
   ]
  },
  {
   "cell_type": "code",
   "execution_count": 56,
   "id": "f2a66753-8297-43ce-9d55-8823671c8c87",
   "metadata": {},
   "outputs": [],
   "source": [
    "import xml.etree.ElementTree as xet"
   ]
  },
  {
   "cell_type": "code",
   "execution_count": 57,
   "id": "e3cd8df0-8424-421c-b651-75e62d5f6af6",
   "metadata": {},
   "outputs": [
    {
     "data": {
      "text/plain": [
       "'./images\\\\Cars0.xml'"
      ]
     },
     "execution_count": 57,
     "metadata": {},
     "output_type": "execute_result"
    }
   ],
   "source": [
    "filename = df['filepath'][0]\n",
    "filename"
   ]
  },
  {
   "cell_type": "code",
   "execution_count": 58,
   "id": "551405ff-ef79-4d4f-b797-45c0d31fefea",
   "metadata": {},
   "outputs": [],
   "source": [
    "def getFilename(filename):\n",
    "    filename_image = xet.parse(filename).getroot().find('filename').text\n",
    "    filepath_image = os.path.join('./images', filename_image)\n",
    "    return filepath_image"
   ]
  },
  {
   "cell_type": "code",
   "execution_count": 60,
   "id": "5b94ad9e-d5fa-4a04-a5eb-807ae3d51f1d",
   "metadata": {},
   "outputs": [
    {
     "data": {
      "text/plain": [
       "'./images\\\\Cars0.png'"
      ]
     },
     "execution_count": 60,
     "metadata": {},
     "output_type": "execute_result"
    }
   ],
   "source": [
    "getFilename(filename)"
   ]
  },
  {
   "cell_type": "code",
   "execution_count": 61,
   "id": "de7d0068-456f-48cd-be17-80e9b2eb0ed7",
   "metadata": {},
   "outputs": [
    {
     "name": "stdout",
     "output_type": "stream",
     "text": [
      "Current Working Directory: C:\\Ramm\n",
      "Image Paths: ['Cars0.jpg', 'Cars1.jpg', 'Cars2.jpg']\n"
     ]
    }
   ],
   "source": [
    "import pandas as pd\n",
    "import os\n",
    "\n",
    "# Example DataFrame\n",
    "df = pd.DataFrame({'filepath': ['./images\\\\Cars0.png', './images\\\\Cars1.png', './images\\\\Cars2.png']})\n",
    "\n",
    "# Get the current working directory\n",
    "current_directory = os.getcwd()\n",
    "\n",
    "# Define a function to extract the filename from the file path\n",
    "def get_filename(filepath):\n",
    "    return os.path.basename(filepath)\n",
    "\n",
    "# Update file paths: replace \".png\" with \".jpg\"\n",
    "df['filepath'] = df['filepath'].apply(lambda x: x.replace('.png', '.jpg') if x.endswith('.png') else x)\n",
    "\n",
    "# Get the list of image paths with filenames\n",
    "image_paths = list(df['filepath'].apply(get_filename))\n",
    "\n",
    "# Display the current working directory and the list of image paths\n",
    "print(\"Current Working Directory:\", current_directory)\n",
    "print(\"Image Paths:\", image_paths)\n"
   ]
  },
  {
   "cell_type": "code",
   "execution_count": 62,
   "id": "9096123e-1d0d-4398-9c42-e1ef59797c62",
   "metadata": {},
   "outputs": [
    {
     "ename": "ParseError",
     "evalue": "not well-formed (invalid token): line 1, column 0 (<string>)",
     "output_type": "error",
     "traceback": [
      "Traceback \u001b[1;36m(most recent call last)\u001b[0m:\n",
      "\u001b[0m  File \u001b[0;32m~\\AppData\\Local\\Programs\\Python\\Python312\\Lib\\site-packages\\IPython\\core\\interactiveshell.py:3577\u001b[0m in \u001b[0;35mrun_code\u001b[0m\n    exec(code_obj, self.user_global_ns, self.user_ns)\u001b[0m\n",
      "\u001b[0m  Cell \u001b[0;32mIn[62], line 1\u001b[0m\n    image_path=list(df['filepath'].apply(getFilename))\u001b[0m\n",
      "\u001b[0m  File \u001b[0;32m~\\AppData\\Local\\Programs\\Python\\Python312\\Lib\\site-packages\\pandas\\core\\series.py:4915\u001b[0m in \u001b[0;35mapply\u001b[0m\n    ).apply()\u001b[0m\n",
      "\u001b[0m  File \u001b[0;32m~\\AppData\\Local\\Programs\\Python\\Python312\\Lib\\site-packages\\pandas\\core\\apply.py:1427\u001b[0m in \u001b[0;35mapply\u001b[0m\n    return self.apply_standard()\u001b[0m\n",
      "\u001b[0m  File \u001b[0;32m~\\AppData\\Local\\Programs\\Python\\Python312\\Lib\\site-packages\\pandas\\core\\apply.py:1507\u001b[0m in \u001b[0;35mapply_standard\u001b[0m\n    mapped = obj._map_values(\u001b[0m\n",
      "\u001b[0m  File \u001b[0;32m~\\AppData\\Local\\Programs\\Python\\Python312\\Lib\\site-packages\\pandas\\core\\base.py:921\u001b[0m in \u001b[0;35m_map_values\u001b[0m\n    return algorithms.map_array(arr, mapper, na_action=na_action, convert=convert)\u001b[0m\n",
      "\u001b[0m  File \u001b[0;32m~\\AppData\\Local\\Programs\\Python\\Python312\\Lib\\site-packages\\pandas\\core\\algorithms.py:1743\u001b[0m in \u001b[0;35mmap_array\u001b[0m\n    return lib.map_infer(values, mapper, convert=convert)\u001b[0m\n",
      "\u001b[0m  File \u001b[0;32mlib.pyx:2972\u001b[0m in \u001b[0;35mpandas._libs.lib.map_infer\u001b[0m\n",
      "\u001b[0m  Cell \u001b[0;32mIn[58], line 2\u001b[0m in \u001b[0;35mgetFilename\u001b[0m\n    filename_image = xet.parse(filename).getroot().find('filename').text\u001b[0m\n",
      "\u001b[0m  File \u001b[0;32m~\\AppData\\Local\\Programs\\Python\\Python312\\Lib\\xml\\etree\\ElementTree.py:1204\u001b[0m in \u001b[0;35mparse\u001b[0m\n    tree.parse(source, parser)\u001b[0m\n",
      "\u001b[1;36m  File \u001b[1;32m~\\AppData\\Local\\Programs\\Python\\Python312\\Lib\\xml\\etree\\ElementTree.py:569\u001b[1;36m in \u001b[1;35mparse\u001b[1;36m\n\u001b[1;33m    self._root = parser._parse_whole(source)\u001b[1;36m\n",
      "\u001b[1;36m  File \u001b[1;32m<string>\u001b[1;36m\u001b[0m\n\u001b[1;31mParseError\u001b[0m\u001b[1;31m:\u001b[0m not well-formed (invalid token): line 1, column 0\n"
     ]
    }
   ],
   "source": [
    "image_path=list(df['filepath'].apply(getFilename))\n",
    "image_path\n"
   ]
  },
  {
   "cell_type": "code",
   "execution_count": 63,
   "id": "ff2f14d9-e932-40db-aa27-c31d1b672d38",
   "metadata": {},
   "outputs": [
    {
     "data": {
      "text/plain": [
       "'i'"
      ]
     },
     "execution_count": 63,
     "metadata": {},
     "output_type": "execute_result"
    }
   ],
   "source": [
    "file_path = image_path[0]\n",
    "file_path"
   ]
  },
  {
   "cell_type": "code",
   "execution_count": 64,
   "id": "85193ec1-548d-4c14-8f8e-8ee3f18e6273",
   "metadata": {},
   "outputs": [
    {
     "name": "stdout",
     "output_type": "stream",
     "text": [
      "Current Working Directory: C:\\Ramm\n",
      "Image Paths: ['car0.png', 'image2.jpg', 'image3.jpg']\n",
      "Error: Unable to load image at 'C:\\Ramm\\car0.png'. Please verify the file path.\n",
      "Error: Unable to load image at 'C:\\Ramm\\image2.jpg'. Please verify the file path.\n",
      "Error: Unable to load image at 'C:\\Ramm\\image3.jpg'. Please verify the file path.\n"
     ]
    }
   ],
   "source": [
    "import os\n",
    "import cv2\n",
    "import pandas as pd\n",
    "\n",
    "# Get the current working directory\n",
    "current_directory = os.getcwd()\n",
    "\n",
    "# Assuming df is your DataFrame and 'filepath' is the column containing file paths\n",
    "# Define a function to extract the filename from the file path\n",
    "def get_filename(filepath):\n",
    "    return os.path.basename(filepath)\n",
    "\n",
    "# Example DataFrame\n",
    "df = pd.DataFrame({'filepath': ['path/to/car0.png', 'path/to/image2.jpg', 'path/to/image3.jpg']})\n",
    "\n",
    "# Get the list of image paths with filenames\n",
    "image_paths = list(df['filepath'].apply(get_filename))\n",
    "\n",
    "# Display the current working directory and the list of image paths\n",
    "print(\"Current Working Directory:\", current_directory)\n",
    "print(\"Image Paths:\", image_paths)\n",
    "\n",
    "# Iterate over the image paths and load/display images\n",
    "for image_path in image_paths:\n",
    "    # Load image\n",
    "    img = cv2.imread(os.path.join(current_directory, image_path))\n",
    "    \n",
    "    # Check if the image is loaded successfully\n",
    "    if img is None:\n",
    "        print(f\"Error: Unable to load image at '{os.path.join(current_directory, image_path)}'. Please verify the file path.\")\n",
    "    else:\n",
    "        # Display the image\n",
    "        cv2.imshow('Image', img)\n",
    "        cv2.waitKey(0)\n",
    "        cv2.destroyAllWindows()\n"
   ]
  },
  {
   "cell_type": "code",
   "execution_count": 65,
   "id": "85950331-721c-4a44-bd40-400ceca57177",
   "metadata": {},
   "outputs": [
    {
     "name": "stdout",
     "output_type": "stream",
     "text": [
      "Error: Unable to load image at i\n"
     ]
    }
   ],
   "source": [
    "import cv2\n",
    "\n",
    "# Path to the JPG image\n",
    "image_path = file_path\n",
    "\n",
    "# Load image\n",
    "img = cv2.imread(image_path)\n",
    "\n",
    "# Check if the image is loaded successfully\n",
    "if img is None:\n",
    "    print(f\"Error: Unable to load image at {image_path}\")\n",
    "else:\n",
    "    # Display the image\n",
    "    cv2.imshow('Image', img)\n",
    "    cv2.waitKey(0)\n",
    "    cv2.destroyAllWindows()\n"
   ]
  },
  {
   "cell_type": "code",
   "execution_count": 66,
   "id": "03f4f959-d76b-491a-b6f9-ceab6aa73100",
   "metadata": {},
   "outputs": [
    {
     "ename": "error",
     "evalue": "OpenCV(4.9.0) D:\\a\\opencv-python\\opencv-python\\opencv\\modules\\highgui\\src\\window.cpp:971: error: (-215:Assertion failed) size.width>0 && size.height>0 in function 'cv::imshow'\n",
     "output_type": "error",
     "traceback": [
      "\u001b[1;31m---------------------------------------------------------------------------\u001b[0m",
      "\u001b[1;31merror\u001b[0m                                     Traceback (most recent call last)",
      "Cell \u001b[1;32mIn[66], line 3\u001b[0m\n\u001b[0;32m      1\u001b[0m img \u001b[38;5;241m=\u001b[39m cv2\u001b[38;5;241m.\u001b[39mimread(file_path)\n\u001b[0;32m      2\u001b[0m cv2\u001b[38;5;241m.\u001b[39mnamedWindow(\u001b[38;5;124m'\u001b[39m\u001b[38;5;124mexample\u001b[39m\u001b[38;5;124m'\u001b[39m, cv2\u001b[38;5;241m.\u001b[39mWINDOW_NORMAL)\n\u001b[1;32m----> 3\u001b[0m \u001b[43mcv2\u001b[49m\u001b[38;5;241;43m.\u001b[39;49m\u001b[43mimshow\u001b[49m\u001b[43m(\u001b[49m\u001b[38;5;124;43m'\u001b[39;49m\u001b[38;5;124;43mexample\u001b[39;49m\u001b[38;5;124;43m'\u001b[39;49m\u001b[43m,\u001b[49m\u001b[43m \u001b[49m\u001b[43mimg\u001b[49m\u001b[43m)\u001b[49m\n\u001b[0;32m      4\u001b[0m cv2\u001b[38;5;241m.\u001b[39mwaitKey(\u001b[38;5;241m0\u001b[39m)\n\u001b[0;32m      5\u001b[0m cv2\u001b[38;5;241m.\u001b[39mdestroyAllWindows()\n",
      "\u001b[1;31merror\u001b[0m: OpenCV(4.9.0) D:\\a\\opencv-python\\opencv-python\\opencv\\modules\\highgui\\src\\window.cpp:971: error: (-215:Assertion failed) size.width>0 && size.height>0 in function 'cv::imshow'\n"
     ]
    }
   ],
   "source": [
    "img = cv2.imread(file_path)\n",
    "cv2.namedWindow('example', cv2.WINDOW_NORMAL)\n",
    "cv2.imshow('example', img)\n",
    "cv2.waitKey(0)\n",
    "cv2.destroyAllWindows()"
   ]
  },
  {
   "cell_type": "code",
   "execution_count": 67,
   "id": "a9ff19d3-a1ff-4ffe-b857-3d38571aa86c",
   "metadata": {},
   "outputs": [],
   "source": [
    "# from sklearn.model_selection import train_test_split\n",
    "# from tensorflow.keras.preprocessing.image import load_img, img_to_array"
   ]
  },
  {
   "cell_type": "code",
   "execution_count": null,
   "id": "72a9fb96-6d7e-446f-b41d-12b451ed1e91",
   "metadata": {},
   "outputs": [],
   "source": [
    "# labels = df.iloc[:,1:].values"
   ]
  },
  {
   "cell_type": "code",
   "execution_count": null,
   "id": "7f1f9fea-43d0-4bf2-8c83-cb89c1c4de0d",
   "metadata": {},
   "outputs": [],
   "source": [
    "# data =[]\n",
    "# output =[]\n",
    "# for ind in range(len(image_path)):\n",
    "#     image = image_path[0]\n",
    "#     img_arr = cv2.imread(image)\n",
    "#     h, w, d = img_arr.shape\n",
    "#     #prepprocessing\n",
    "#     load_image = load_img(image, target_size=(224, 224))\n",
    "#     load_image_arr = img_to_array(load_image)\n",
    "#     #noramlization to labels\n",
    "#     xmin,xmax,ymin,ymax=labels[ind]\n",
    "#     nxmin, nxmax = xmin/w,xmax/w\n",
    "#     nymin, nymax = ymin/w,ymax/w\n",
    "#     label_norm = (nxmin, nxmax, nymin, nymax)\n",
    "#     data.append(norm_load_image_arr)\n",
    "#     output.append(label_norm)"
   ]
  },
  {
   "cell_type": "code",
   "execution_count": null,
   "id": "1bbbaf1d-11ad-430a-b166-9f51ce45236b",
   "metadata": {},
   "outputs": [],
   "source": [
    "# X = np.array(data,dtype=np.float32)\n",
    "# y = np.array(data,dtype=np.float32)"
   ]
  },
  {
   "cell_type": "code",
   "execution_count": null,
   "id": "e1663c91-b6ca-48bc-8506-c0e75af69ec4",
   "metadata": {},
   "outputs": [],
   "source": [
    "# X.shape,y.shape"
   ]
  },
  {
   "cell_type": "code",
   "execution_count": null,
   "id": "17d7102c-98bc-442a-bdd6-33d652ac8658",
   "metadata": {},
   "outputs": [],
   "source": [
    "# x_train, x_test, y_train, y_test = train_test_split(X, y, train_size=0.8, random_state=0)\n",
    "# x_train.shape,x_test.shape, y_train.shape, y_test.shpe"
   ]
  },
  {
   "cell_type": "code",
   "execution_count": null,
   "id": "e39bfa13-dd07-4c58-a750-7c4b205b4518",
   "metadata": {},
   "outputs": [],
   "source": [
    "# from tensorflow.keras.applications import MobileNetV2, InceptionV3, InceptionResNetV2\n",
    "# from tensorflow.keras.layers import Dense, Dropout, Flattern, Input\n",
    "# import tensorflow as tf"
   ]
  },
  {
   "cell_type": "code",
   "execution_count": null,
   "id": "5f73e0a9-a863-47ae-8b3d-1ae0c8718131",
   "metadata": {},
   "outputs": [],
   "source": [
    "# inception_resnet = InceptionResNetV2(weights='imagenet', incluede_top=False,\n",
    "#                                     input_tensor=Input(shape=(22,224,3)))\n",
    "# headmodel = inception_resnet.output\n",
    "# headmodel = Flatten()(headmodel)\n",
    "# headmodel = Dense(500, activation='relu')(headmodel)\n",
    "# headmodel = Dense(250, activation='relu')(headmodel)\n",
    "# # headmodel = Dense(4,activation='sigmoid')(headmodel)"
   ]
  },
  {
   "cell_type": "code",
   "execution_count": null,
   "id": "39eba634-f191-4f60-af9d-5136acc4d6cb",
   "metadata": {},
   "outputs": [],
   "source": [
    "# model.compile(loss='mse', optimize=tf.keras.optimizers.Adam(learning_rate=1e-4))\n",
    "# model.summary()\n"
   ]
  },
  {
   "cell_type": "code",
   "execution_count": null,
   "id": "56181293-8291-44a7-ac98-7d4e1154b2c6",
   "metadata": {},
   "outputs": [],
   "source": [
    "# from tensorflow.keras.callbacks import TensorBoard"
   ]
  },
  {
   "cell_type": "code",
   "execution_count": null,
   "id": "3c1d9d2c-8717-47c6-88dc-0e00bc720a4f",
   "metadata": {},
   "outputs": [],
   "source": [
    "# tfb = TensorBoard(\"object_detection\")"
   ]
  },
  {
   "cell_type": "code",
   "execution_count": null,
   "id": "1f0cf12c-f584-4f44-b682-4d8dc96c7669",
   "metadata": {},
   "outputs": [],
   "source": [
    "# history = model.fit(x=x_train, y=y_train, batch_size=10,epochs=100,\n",
    "#                    validation_data=(x_test, y_test),callbacks=[tfb])"
   ]
  },
  {
   "cell_type": "code",
   "execution_count": null,
   "id": "8beb16b6-c305-4fc3-8699-634d36651cba",
   "metadata": {},
   "outputs": [],
   "source": [
    "# history = model.fit(x=x_train, y=y_train, batch_size=10,epochs=100,\n",
    "#                    validation_data=(x_test, y_test),callbacks=[tfb], initial_epoch=101)"
   ]
  },
  {
   "cell_type": "code",
   "execution_count": null,
   "id": "bcb6fcb3-03ed-4897-8701-9add5970424a",
   "metadata": {},
   "outputs": [],
   "source": [
    "# model.save('./model/object_detection.h5')"
   ]
  },
  {
   "cell_type": "code",
   "execution_count": null,
   "id": "a2dc99e2-840c-46e6-9b9e-edf3d6fde80d",
   "metadata": {},
   "outputs": [],
   "source": []
  },
  {
   "cell_type": "code",
   "execution_count": null,
   "id": "06e4a859-0d91-451b-9135-d26526629ae7",
   "metadata": {},
   "outputs": [],
   "source": []
  }
 ],
 "metadata": {
  "kernelspec": {
   "display_name": "Python 3 (ipykernel)",
   "language": "python",
   "name": "python3"
  },
  "language_info": {
   "codemirror_mode": {
    "name": "ipython",
    "version": 3
   },
   "file_extension": ".py",
   "mimetype": "text/x-python",
   "name": "python",
   "nbconvert_exporter": "python",
   "pygments_lexer": "ipython3",
   "version": "3.12.2"
  }
 },
 "nbformat": 4,
 "nbformat_minor": 5
}
